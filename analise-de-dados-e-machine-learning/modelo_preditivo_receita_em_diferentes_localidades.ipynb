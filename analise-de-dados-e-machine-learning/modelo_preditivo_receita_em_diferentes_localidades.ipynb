{
  "nbformat": 4,
  "nbformat_minor": 0,
  "metadata": {
    "colab": {
      "provenance": []
    },
    "kernelspec": {
      "name": "python3",
      "display_name": "Python 3"
    },
    "language_info": {
      "name": "python"
    }
  },
  "cells": [
    {
      "cell_type": "markdown",
      "source": [
        "Uma rede de lojas de modas e acessórios possui lojas físicas espalhadas por diversas locações. Com o grande aumento do uso da internet no ramo do e-commerce, o número de clientes frequentando lojas físicas decresceu de forma considerável. Com isso, a empresa precisa entender os fatores de localidade que influenciam na receita geral a fim de tomar decisões com relação à abertura de futuras lojas físicas e o rumo das já existentes.\n",
        "\n",
        "O dataset que iremos trabalhar contém atributos importantes acerca de uma loja física e sua área ao redor. São eles:\n",
        "\n",
        "**revenue:** Receita de uma determinada loja em certa localidade.\n",
        "\n",
        "**location_age:** Número de anos passados desde que a loja abriu.\n",
        "\n",
        "**num_competitors:** Número de concorrentes num raio de 32 km.\n",
        "\n",
        "**median_income:** Renda média dos residentes da área.\n",
        "\n",
        "**num_loyalty_members:** Membros inscritos no programa de fidelidade da loja.\n",
        "\n",
        "**population_density:** Densidade populacional da área."
      ],
      "metadata": {
        "id": "S-RvWwvCYGl8"
      }
    },
    {
      "cell_type": "code",
      "source": [
        "import pandas as pd\n",
        "import numpy as np\n",
        "import matplotlib.pyplot as plt, seaborn as sns\n",
        "from sklearn.model_selection import train_test_split\n",
        "from sklearn.linear_model import LinearRegression"
      ],
      "metadata": {
        "id": "2KYF80yIbFT6"
      },
      "execution_count": 1,
      "outputs": []
    },
    {
      "cell_type": "code",
      "source": [
        "df = pd.read_csv('drive/MyDrive/Colab Datasets/location_rev.csv')\n",
        "df.head()"
      ],
      "metadata": {
        "colab": {
          "base_uri": "https://localhost:8080/",
          "height": 206
        },
        "id": "tuEQqvZUdyec",
        "outputId": "7c8cc2ef-a5b2-4308-8a85-ff2c6672037b"
      },
      "execution_count": 2,
      "outputs": [
        {
          "output_type": "execute_result",
          "data": {
            "text/plain": [
              "    revenue  num_competitors  median_income  num_loyalty_members  \\\n",
              "0  42247.80              3.0       30527.57               1407.0   \n",
              "1  38628.37              3.0       30185.49               1025.0   \n",
              "2  39715.16              1.0       32182.24               1498.0   \n",
              "3  35593.30              5.0       29728.65               2340.0   \n",
              "4  35128.18              4.0       30691.17                847.0   \n",
              "\n",
              "   population_density  location_age  \n",
              "0              3302.0          12.0  \n",
              "1              4422.0          11.0  \n",
              "2              3260.0          12.0  \n",
              "3              4325.0          10.0  \n",
              "4              3774.0          11.0  "
            ],
            "text/html": [
              "\n",
              "  <div id=\"df-7bccdf0b-610e-4a4d-9bb3-93b2ebc0b762\">\n",
              "    <div class=\"colab-df-container\">\n",
              "      <div>\n",
              "<style scoped>\n",
              "    .dataframe tbody tr th:only-of-type {\n",
              "        vertical-align: middle;\n",
              "    }\n",
              "\n",
              "    .dataframe tbody tr th {\n",
              "        vertical-align: top;\n",
              "    }\n",
              "\n",
              "    .dataframe thead th {\n",
              "        text-align: right;\n",
              "    }\n",
              "</style>\n",
              "<table border=\"1\" class=\"dataframe\">\n",
              "  <thead>\n",
              "    <tr style=\"text-align: right;\">\n",
              "      <th></th>\n",
              "      <th>revenue</th>\n",
              "      <th>num_competitors</th>\n",
              "      <th>median_income</th>\n",
              "      <th>num_loyalty_members</th>\n",
              "      <th>population_density</th>\n",
              "      <th>location_age</th>\n",
              "    </tr>\n",
              "  </thead>\n",
              "  <tbody>\n",
              "    <tr>\n",
              "      <th>0</th>\n",
              "      <td>42247.80</td>\n",
              "      <td>3.0</td>\n",
              "      <td>30527.57</td>\n",
              "      <td>1407.0</td>\n",
              "      <td>3302.0</td>\n",
              "      <td>12.0</td>\n",
              "    </tr>\n",
              "    <tr>\n",
              "      <th>1</th>\n",
              "      <td>38628.37</td>\n",
              "      <td>3.0</td>\n",
              "      <td>30185.49</td>\n",
              "      <td>1025.0</td>\n",
              "      <td>4422.0</td>\n",
              "      <td>11.0</td>\n",
              "    </tr>\n",
              "    <tr>\n",
              "      <th>2</th>\n",
              "      <td>39715.16</td>\n",
              "      <td>1.0</td>\n",
              "      <td>32182.24</td>\n",
              "      <td>1498.0</td>\n",
              "      <td>3260.0</td>\n",
              "      <td>12.0</td>\n",
              "    </tr>\n",
              "    <tr>\n",
              "      <th>3</th>\n",
              "      <td>35593.30</td>\n",
              "      <td>5.0</td>\n",
              "      <td>29728.65</td>\n",
              "      <td>2340.0</td>\n",
              "      <td>4325.0</td>\n",
              "      <td>10.0</td>\n",
              "    </tr>\n",
              "    <tr>\n",
              "      <th>4</th>\n",
              "      <td>35128.18</td>\n",
              "      <td>4.0</td>\n",
              "      <td>30691.17</td>\n",
              "      <td>847.0</td>\n",
              "      <td>3774.0</td>\n",
              "      <td>11.0</td>\n",
              "    </tr>\n",
              "  </tbody>\n",
              "</table>\n",
              "</div>\n",
              "      <button class=\"colab-df-convert\" onclick=\"convertToInteractive('df-7bccdf0b-610e-4a4d-9bb3-93b2ebc0b762')\"\n",
              "              title=\"Convert this dataframe to an interactive table.\"\n",
              "              style=\"display:none;\">\n",
              "        \n",
              "  <svg xmlns=\"http://www.w3.org/2000/svg\" height=\"24px\"viewBox=\"0 0 24 24\"\n",
              "       width=\"24px\">\n",
              "    <path d=\"M0 0h24v24H0V0z\" fill=\"none\"/>\n",
              "    <path d=\"M18.56 5.44l.94 2.06.94-2.06 2.06-.94-2.06-.94-.94-2.06-.94 2.06-2.06.94zm-11 1L8.5 8.5l.94-2.06 2.06-.94-2.06-.94L8.5 2.5l-.94 2.06-2.06.94zm10 10l.94 2.06.94-2.06 2.06-.94-2.06-.94-.94-2.06-.94 2.06-2.06.94z\"/><path d=\"M17.41 7.96l-1.37-1.37c-.4-.4-.92-.59-1.43-.59-.52 0-1.04.2-1.43.59L10.3 9.45l-7.72 7.72c-.78.78-.78 2.05 0 2.83L4 21.41c.39.39.9.59 1.41.59.51 0 1.02-.2 1.41-.59l7.78-7.78 2.81-2.81c.8-.78.8-2.07 0-2.86zM5.41 20L4 18.59l7.72-7.72 1.47 1.35L5.41 20z\"/>\n",
              "  </svg>\n",
              "      </button>\n",
              "      \n",
              "  <style>\n",
              "    .colab-df-container {\n",
              "      display:flex;\n",
              "      flex-wrap:wrap;\n",
              "      gap: 12px;\n",
              "    }\n",
              "\n",
              "    .colab-df-convert {\n",
              "      background-color: #E8F0FE;\n",
              "      border: none;\n",
              "      border-radius: 50%;\n",
              "      cursor: pointer;\n",
              "      display: none;\n",
              "      fill: #1967D2;\n",
              "      height: 32px;\n",
              "      padding: 0 0 0 0;\n",
              "      width: 32px;\n",
              "    }\n",
              "\n",
              "    .colab-df-convert:hover {\n",
              "      background-color: #E2EBFA;\n",
              "      box-shadow: 0px 1px 2px rgba(60, 64, 67, 0.3), 0px 1px 3px 1px rgba(60, 64, 67, 0.15);\n",
              "      fill: #174EA6;\n",
              "    }\n",
              "\n",
              "    [theme=dark] .colab-df-convert {\n",
              "      background-color: #3B4455;\n",
              "      fill: #D2E3FC;\n",
              "    }\n",
              "\n",
              "    [theme=dark] .colab-df-convert:hover {\n",
              "      background-color: #434B5C;\n",
              "      box-shadow: 0px 1px 3px 1px rgba(0, 0, 0, 0.15);\n",
              "      filter: drop-shadow(0px 1px 2px rgba(0, 0, 0, 0.3));\n",
              "      fill: #FFFFFF;\n",
              "    }\n",
              "  </style>\n",
              "\n",
              "      <script>\n",
              "        const buttonEl =\n",
              "          document.querySelector('#df-7bccdf0b-610e-4a4d-9bb3-93b2ebc0b762 button.colab-df-convert');\n",
              "        buttonEl.style.display =\n",
              "          google.colab.kernel.accessAllowed ? 'block' : 'none';\n",
              "\n",
              "        async function convertToInteractive(key) {\n",
              "          const element = document.querySelector('#df-7bccdf0b-610e-4a4d-9bb3-93b2ebc0b762');\n",
              "          const dataTable =\n",
              "            await google.colab.kernel.invokeFunction('convertToInteractive',\n",
              "                                                     [key], {});\n",
              "          if (!dataTable) return;\n",
              "\n",
              "          const docLinkHtml = 'Like what you see? Visit the ' +\n",
              "            '<a target=\"_blank\" href=https://colab.research.google.com/notebooks/data_table.ipynb>data table notebook</a>'\n",
              "            + ' to learn more about interactive tables.';\n",
              "          element.innerHTML = '';\n",
              "          dataTable['output_type'] = 'display_data';\n",
              "          await google.colab.output.renderOutput(dataTable, element);\n",
              "          const docLink = document.createElement('div');\n",
              "          docLink.innerHTML = docLinkHtml;\n",
              "          element.appendChild(docLink);\n",
              "        }\n",
              "      </script>\n",
              "    </div>\n",
              "  </div>\n",
              "  "
            ]
          },
          "metadata": {},
          "execution_count": 2
        }
      ]
    },
    {
      "cell_type": "code",
      "source": [
        "sns.pairplot(df, x_vars=df.columns, y_vars=\"revenue\")\n",
        "plt.show()"
      ],
      "metadata": {
        "colab": {
          "base_uri": "https://localhost:8080/",
          "height": 197
        },
        "id": "dxAOCaJ0d_Ux",
        "outputId": "94bc68ef-c661-4bde-ce65-7bb6d3d68599"
      },
      "execution_count": 3,
      "outputs": [
        {
          "output_type": "display_data",
          "data": {
            "text/plain": [
              "<Figure size 1080x180 with 7 Axes>"
            ],
            "image/png": "[encoded data removed]"
          },
          "metadata": {
            "needs_background": "light"
          }
        }
      ]
    },
    {
      "cell_type": "markdown",
      "source": [
        "A partir dos gráficos anteriores, vemos parece que existe uma correlação decente entre a receita(revenue), a renda média dos residentes(median_income) e a idade da loja(location_age). Vamos confirmar isso em valores numéricos:"
      ],
      "metadata": {
        "id": "N5ICOkENjZsC"
      }
    },
    {
      "cell_type": "code",
      "source": [
        "df.corr()"
      ],
      "metadata": {
        "colab": {
          "base_uri": "https://localhost:8080/",
          "height": 237
        },
        "id": "-pX1yZgZiO6P",
        "outputId": "2977a2bd-b357-4927-8398-986f9b1ee898"
      },
      "execution_count": 4,
      "outputs": [
        {
          "output_type": "execute_result",
          "data": {
            "text/plain": [
              "                      revenue  num_competitors  median_income  \\\n",
              "revenue              1.000000        -0.156685       0.601888   \n",
              "num_competitors     -0.156685         1.000000      -0.018398   \n",
              "median_income        0.601888        -0.018398       1.000000   \n",
              "num_loyalty_members  0.173432        -0.027283       0.011891   \n",
              "population_density   0.311653         0.035768      -0.041697   \n",
              "location_age         0.552773         0.053796       0.045621   \n",
              "\n",
              "                     num_loyalty_members  population_density  location_age  \n",
              "revenue                         0.173432            0.311653      0.552773  \n",
              "num_competitors                -0.027283            0.035768      0.053796  \n",
              "median_income                   0.011891           -0.041697      0.045621  \n",
              "num_loyalty_members             1.000000           -0.028611      0.036016  \n",
              "population_density             -0.028611            1.000000     -0.009977  \n",
              "location_age                    0.036016           -0.009977      1.000000  "
            ],
            "text/html": [
              "\n",
              "  <div id=\"df-52e92eb1-ba8e-4ce0-aa45-e127fe9828d6\">\n",
              "    <div class=\"colab-df-container\">\n",
              "      <div>\n",
              "<style scoped>\n",
              "    .dataframe tbody tr th:only-of-type {\n",
              "        vertical-align: middle;\n",
              "    }\n",
              "\n",
              "    .dataframe tbody tr th {\n",
              "        vertical-align: top;\n",
              "    }\n",
              "\n",
              "    .dataframe thead th {\n",
              "        text-align: right;\n",
              "    }\n",
              "</style>\n",
              "<table border=\"1\" class=\"dataframe\">\n",
              "  <thead>\n",
              "    <tr style=\"text-align: right;\">\n",
              "      <th></th>\n",
              "      <th>revenue</th>\n",
              "      <th>num_competitors</th>\n",
              "      <th>median_income</th>\n",
              "      <th>num_loyalty_members</th>\n",
              "      <th>population_density</th>\n",
              "      <th>location_age</th>\n",
              "    </tr>\n",
              "  </thead>\n",
              "  <tbody>\n",
              "    <tr>\n",
              "      <th>revenue</th>\n",
              "      <td>1.000000</td>\n",
              "      <td>-0.156685</td>\n",
              "      <td>0.601888</td>\n",
              "      <td>0.173432</td>\n",
              "      <td>0.311653</td>\n",
              "      <td>0.552773</td>\n",
              "    </tr>\n",
              "    <tr>\n",
              "      <th>num_competitors</th>\n",
              "      <td>-0.156685</td>\n",
              "      <td>1.000000</td>\n",
              "      <td>-0.018398</td>\n",
              "      <td>-0.027283</td>\n",
              "      <td>0.035768</td>\n",
              "      <td>0.053796</td>\n",
              "    </tr>\n",
              "    <tr>\n",
              "      <th>median_income</th>\n",
              "      <td>0.601888</td>\n",
              "      <td>-0.018398</td>\n",
              "      <td>1.000000</td>\n",
              "      <td>0.011891</td>\n",
              "      <td>-0.041697</td>\n",
              "      <td>0.045621</td>\n",
              "    </tr>\n",
              "    <tr>\n",
              "      <th>num_loyalty_members</th>\n",
              "      <td>0.173432</td>\n",
              "      <td>-0.027283</td>\n",
              "      <td>0.011891</td>\n",
              "      <td>1.000000</td>\n",
              "      <td>-0.028611</td>\n",
              "      <td>0.036016</td>\n",
              "    </tr>\n",
              "    <tr>\n",
              "      <th>population_density</th>\n",
              "      <td>0.311653</td>\n",
              "      <td>0.035768</td>\n",
              "      <td>-0.041697</td>\n",
              "      <td>-0.028611</td>\n",
              "      <td>1.000000</td>\n",
              "      <td>-0.009977</td>\n",
              "    </tr>\n",
              "    <tr>\n",
              "      <th>location_age</th>\n",
              "      <td>0.552773</td>\n",
              "      <td>0.053796</td>\n",
              "      <td>0.045621</td>\n",
              "      <td>0.036016</td>\n",
              "      <td>-0.009977</td>\n",
              "      <td>1.000000</td>\n",
              "    </tr>\n",
              "  </tbody>\n",
              "</table>\n",
              "</div>\n",
              "      <button class=\"colab-df-convert\" onclick=\"convertToInteractive('df-52e92eb1-ba8e-4ce0-aa45-e127fe9828d6')\"\n",
              "              title=\"Convert this dataframe to an interactive table.\"\n",
              "              style=\"display:none;\">\n",
              "        \n",
              "  <svg xmlns=\"http://www.w3.org/2000/svg\" height=\"24px\"viewBox=\"0 0 24 24\"\n",
              "       width=\"24px\">\n",
              "    <path d=\"M0 0h24v24H0V0z\" fill=\"none\"/>\n",
              "    <path d=\"M18.56 5.44l.94 2.06.94-2.06 2.06-.94-2.06-.94-.94-2.06-.94 2.06-2.06.94zm-11 1L8.5 8.5l.94-2.06 2.06-.94-2.06-.94L8.5 2.5l-.94 2.06-2.06.94zm10 10l.94 2.06.94-2.06 2.06-.94-2.06-.94-.94-2.06-.94 2.06-2.06.94z\"/><path d=\"M17.41 7.96l-1.37-1.37c-.4-.4-.92-.59-1.43-.59-.52 0-1.04.2-1.43.59L10.3 9.45l-7.72 7.72c-.78.78-.78 2.05 0 2.83L4 21.41c.39.39.9.59 1.41.59.51 0 1.02-.2 1.41-.59l7.78-7.78 2.81-2.81c.8-.78.8-2.07 0-2.86zM5.41 20L4 18.59l7.72-7.72 1.47 1.35L5.41 20z\"/>\n",
              "  </svg>\n",
              "      </button>\n",
              "      \n",
              "  <style>\n",
              "    .colab-df-container {\n",
              "      display:flex;\n",
              "      flex-wrap:wrap;\n",
              "      gap: 12px;\n",
              "    }\n",
              "\n",
              "    .colab-df-convert {\n",
              "      background-color: #E8F0FE;\n",
              "      border: none;\n",
              "      border-radius: 50%;\n",
              "      cursor: pointer;\n",
              "      display: none;\n",
              "      fill: #1967D2;\n",
              "      height: 32px;\n",
              "      padding: 0 0 0 0;\n",
              "      width: 32px;\n",
              "    }\n",
              "\n",
              "    .colab-df-convert:hover {\n",
              "      background-color: #E2EBFA;\n",
              "      box-shadow: 0px 1px 2px rgba(60, 64, 67, 0.3), 0px 1px 3px 1px rgba(60, 64, 67, 0.15);\n",
              "      fill: #174EA6;\n",
              "    }\n",
              "\n",
              "    [theme=dark] .colab-df-convert {\n",
              "      background-color: #3B4455;\n",
              "      fill: #D2E3FC;\n",
              "    }\n",
              "\n",
              "    [theme=dark] .colab-df-convert:hover {\n",
              "      background-color: #434B5C;\n",
              "      box-shadow: 0px 1px 3px 1px rgba(0, 0, 0, 0.15);\n",
              "      filter: drop-shadow(0px 1px 2px rgba(0, 0, 0, 0.3));\n",
              "      fill: #FFFFFF;\n",
              "    }\n",
              "  </style>\n",
              "\n",
              "      <script>\n",
              "        const buttonEl =\n",
              "          document.querySelector('#df-52e92eb1-ba8e-4ce0-aa45-e127fe9828d6 button.colab-df-convert');\n",
              "        buttonEl.style.display =\n",
              "          google.colab.kernel.accessAllowed ? 'block' : 'none';\n",
              "\n",
              "        async function convertToInteractive(key) {\n",
              "          const element = document.querySelector('#df-52e92eb1-ba8e-4ce0-aa45-e127fe9828d6');\n",
              "          const dataTable =\n",
              "            await google.colab.kernel.invokeFunction('convertToInteractive',\n",
              "                                                     [key], {});\n",
              "          if (!dataTable) return;\n",
              "\n",
              "          const docLinkHtml = 'Like what you see? Visit the ' +\n",
              "            '<a target=\"_blank\" href=https://colab.research.google.com/notebooks/data_table.ipynb>data table notebook</a>'\n",
              "            + ' to learn more about interactive tables.';\n",
              "          element.innerHTML = '';\n",
              "          dataTable['output_type'] = 'display_data';\n",
              "          await google.colab.output.renderOutput(dataTable, element);\n",
              "          const docLink = document.createElement('div');\n",
              "          docLink.innerHTML = docLinkHtml;\n",
              "          element.appendChild(docLink);\n",
              "        }\n",
              "      </script>\n",
              "    </div>\n",
              "  </div>\n",
              "  "
            ]
          },
          "metadata": {},
          "execution_count": 4
        }
      ]
    },
    {
      "cell_type": "markdown",
      "source": [
        "Como podemos ratificar através dos coeficientes de correlação, existe uma alta associação entre a receita, a renda média dos residentes do local e a idade da loja, o que faz sentido para uma visão de negócio. Isto é, quanto maior o poder aquisitivo da população local, mais ela poderá comprar e, portanto, contribuir para o alargamento da receita da empresa. Além disso, temos o indicativo de que quanto maior o tempo que uma loja está aberta, mais clientes ela atrai. Por fim, a densidade de população da área também possui certa influência na receita da loja, bem como a quantidade de concorrentes que contribui de forma negativa para o negócio.  "
      ],
      "metadata": {
        "id": "E0NmXtvgkt8F"
      }
    },
    {
      "cell_type": "markdown",
      "source": [
        "Entendido os atributos de locação que maximizam o ganho de receita de uma loja, agora vamos construir um modelo preditivo usando **regressão linear** para prever a receita de uma loja quando são fornecidos certos valores para os atributos da base de dados."
      ],
      "metadata": {
        "id": "XGdkoXbwomhz"
      }
    },
    {
      "cell_type": "code",
      "source": [
        "# X: preditores y: variável alvo\n",
        "X = df[['num_competitors','median_income', 'num_loyalty_members', 'population_density', 'location_age']]\n",
        "y = df['revenue']"
      ],
      "metadata": {
        "id": "aQhIdkj1l7Iy"
      },
      "execution_count": 5,
      "outputs": []
    },
    {
      "cell_type": "code",
      "source": [
        "# divisão dos dados  em treino e teste\n",
        "X_train, X_test, y_train, y_test = train_test_split(X, y, random_state = 100)"
      ],
      "metadata": {
        "id": "u6Bz2rFEA2Ox"
      },
      "execution_count": 6,
      "outputs": []
    },
    {
      "cell_type": "code",
      "source": [
        "model = LinearRegression()\n",
        "model.fit(X_train, y_train)"
      ],
      "metadata": {
        "colab": {
          "base_uri": "https://localhost:8080/"
        },
        "id": "eKttdv1-BxUy",
        "outputId": "8614c345-f5e4-477b-cfe1-9a1f60ef2321"
      },
      "execution_count": 7,
      "outputs": [
        {
          "output_type": "execute_result",
          "data": {
            "text/plain": [
              "LinearRegression()"
            ]
          },
          "metadata": {},
          "execution_count": 7
        }
      ]
    },
    {
      "cell_type": "code",
      "source": [
        "model.coef_"
      ],
      "metadata": {
        "colab": {
          "base_uri": "https://localhost:8080/"
        },
        "id": "57rPYWglCUqm",
        "outputId": "1dc789ea-ec57-4d49-ece0-0e643ca57cf6"
      },
      "execution_count": 8,
      "outputs": [
        {
          "output_type": "execute_result",
          "data": {
            "text/plain": [
              "array([-2.14765128e+03,  1.71903196e+00,  3.50665069e+00,  4.31777912e+00,\n",
              "        2.06703103e+03])"
            ]
          },
          "metadata": {},
          "execution_count": 8
        }
      ]
    },
    {
      "cell_type": "markdown",
      "source": [
        "Agora vamos criar um dataframe com os atributos de locação da base de dados para realizar uma previsão da receita"
      ],
      "metadata": {
        "id": "Lqfv1RApSzyT"
      }
    },
    {
      "cell_type": "code",
      "source": [
        "single_location = pd.DataFrame({'num_competitors': [7],\\\n",
        "                                'median_income': [50000],\\\n",
        "                                'num_loyalty_members': [1200],\\\n",
        "                                'population_density': [3000],\\\n",
        "                                'location_age': [15]})\n",
        "model.predict(single_location)"
      ],
      "metadata": {
        "colab": {
          "base_uri": "https://localhost:8080/"
        },
        "id": "H7XHalitCcuB",
        "outputId": "14cd1235-1df8-45dc-8954-4e01e4528340"
      },
      "execution_count": 9,
      "outputs": [
        {
          "output_type": "execute_result",
          "data": {
            "text/plain": [
              "array([68016.18611755])"
            ]
          },
          "metadata": {},
          "execution_count": 9
        }
      ]
    },
    {
      "cell_type": "markdown",
      "source": [
        "Plotando as predições do modelo versus os valores reais"
      ],
      "metadata": {
        "id": "Hc6B7WeMTRl8"
      }
    },
    {
      "cell_type": "code",
      "source": [
        "plt.scatter(model.predict(X_test), y_test)\n",
        "plt.xlabel('Predições do modelo')\n",
        "plt.ylabel('Valores reais')\n",
        "plt.plot([0, 100000], [0, 100000], 'k-', color = 'gray')\n",
        "plt.show()"
      ],
      "metadata": {
        "colab": {
          "base_uri": "https://localhost:8080/",
          "height": 279
        },
        "id": "x5oKQmL5C__4",
        "outputId": "159e147a-fda7-41c0-c8a3-85777c60e233"
      },
      "execution_count": 10,
      "outputs": [
        {
          "output_type": "display_data",
          "data": {
            "text/plain": [
              "<Figure size 432x288 with 1 Axes>"
            ],
            "image/png": "[encoded data removed]"
          },
          "metadata": {
            "needs_background": "light"
          }
        }
      ]
    },
    {
      "cell_type": "markdown",
      "source": [
        "Observando o gráfico anterior, vemos que há uma forte associação entre os valores previstos pelo modelo e os valores reais, o que nos informa que o modelo está performando bem no que se refere a prever os valores de receita para as lojas. \n",
        "\n",
        "Vamos confirmar isso através do coeficiente de correlação entre as previsões e os valores reais:\n"
      ],
      "metadata": {
        "id": "avQiHNVlFZVN"
      }
    },
    {
      "cell_type": "code",
      "source": [
        "np.corrcoef(model.predict(X_test), y_test)"
      ],
      "metadata": {
        "colab": {
          "base_uri": "https://localhost:8080/"
        },
        "id": "6c7CS3PXEvaH",
        "outputId": "a6d1e75b-cf34-4c7e-ad4f-7a75170e5e74"
      },
      "execution_count": 11,
      "outputs": [
        {
          "output_type": "execute_result",
          "data": {
            "text/plain": [
              "array([[1.        , 0.90615978],\n",
              "       [0.90615978, 1.        ]])"
            ]
          },
          "metadata": {},
          "execution_count": 11
        }
      ]
    },
    {
      "cell_type": "markdown",
      "source": [
        "O coeficiente aponta para uma correlação positiva forte, o que significa que o modelo performará bem para dados novos.\n",
        "\n",
        "Fazendo uso desse modelo, a empresa poderá prever a receita para qualquer loja em qualquer localidade, além de ter o entedimento de onde posicionar melhor suas lojas a fim de maximizar o ganho total final das mesmas."
      ],
      "metadata": {
        "id": "458xfl55HSkc"
      }
    }
  ]
}